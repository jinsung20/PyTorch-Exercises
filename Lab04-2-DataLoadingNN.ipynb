{
 "cells": [
  {
   "cell_type": "markdown",
   "metadata": {},
   "source": [
    "## Data load and NN example\n",
    "Ref) Deep learning for everyone\n",
    "https://github.com/deeplearningzerotoall/PyTorch/blob/master/lab-04_2_load_data.ipynb\n",
    "High-level implementation"
   ]
  },
  {
   "cell_type": "code",
   "execution_count": 8,
   "metadata": {},
   "outputs": [],
   "source": [
    "import torch\n",
    "import torch.nn as nn\n",
    "import torch.nn.functional as F\n",
    "import torch.optim as optim\n",
    "import numpy as np\n",
    "\n",
    "xy = np.loadtxt('data-01-test-score.csv', delimiter=',', dtype=np.float32)\n",
    "\n",
    "x_data = xy[:, 0:-1]\n",
    "y_data = xy[:, [-1]]\n",
    "\n",
    "class MultivariateLinearRegressionModel(nn.Module):\n",
    "    def __init__(self):\n",
    "        super().__init__()\n",
    "        self.linear = nn.Linear(3, 1)\n",
    "\n",
    "    def forward(self, x):\n",
    "        return self.linear(x)"
   ]
  },
  {
   "cell_type": "code",
   "execution_count": 9,
   "metadata": {},
   "outputs": [
    {
     "name": "stdout",
     "output_type": "stream",
     "text": [
      "Epoch    0/20 Cost: 32337.292969\n",
      "Epoch    1/20 Cost: 11969.227539\n",
      "Epoch    2/20 Cost: 4438.581543\n",
      "Epoch    3/20 Cost: 1654.285156\n",
      "Epoch    4/20 Cost: 624.845764\n",
      "Epoch    5/20 Cost: 244.225372\n",
      "Epoch    6/20 Cost: 103.490875\n",
      "Epoch    7/20 Cost: 51.449539\n",
      "Epoch    8/20 Cost: 32.200085\n",
      "Epoch    9/20 Cost: 25.074739\n",
      "Epoch   10/20 Cost: 22.432131\n",
      "Epoch   11/20 Cost: 21.446831\n",
      "Epoch   12/20 Cost: 21.074324\n",
      "Epoch   13/20 Cost: 20.928368\n",
      "Epoch   14/20 Cost: 20.866222\n",
      "Epoch   15/20 Cost: 20.835068\n",
      "Epoch   16/20 Cost: 20.815340\n",
      "Epoch   17/20 Cost: 20.799883\n",
      "Epoch   18/20 Cost: 20.785969\n",
      "Epoch   19/20 Cost: 20.772696\n",
      "Epoch   20/20 Cost: 20.759594\n"
     ]
    }
   ],
   "source": [
    "# 데이터\n",
    "x_train = torch.FloatTensor(x_data)\n",
    "y_train = torch.FloatTensor(y_data)\n",
    "\n",
    "# 모델 초기화\n",
    "model = MultivariateLinearRegressionModel()\n",
    "\n",
    "# optimizer 설정\n",
    "optimizer = optim.SGD(model.parameters(), lr=1e-5)\n",
    "\n",
    "nb_epochs = 20\n",
    "for epoch in range(nb_epochs+1):\n",
    "    \n",
    "    # H(x) 계산\n",
    "    prediction = model(x_train)\n",
    "    \n",
    "    # cost 계산\n",
    "    cost = F.mse_loss(prediction, y_train)\n",
    "    \n",
    "    # cost로 H(x) 개선\n",
    "    optimizer.zero_grad()\n",
    "    cost.backward()\n",
    "    optimizer.step()\n",
    "    \n",
    "    # 20번마다 로그 출력\n",
    "    print('Epoch {:4d}/{} Cost: {:.6f}'.format(\n",
    "        epoch, nb_epochs, cost.item()\n",
    "    ))"
   ]
  }
 ],
 "metadata": {
  "kernelspec": {
   "display_name": "Python 3",
   "language": "python",
   "name": "python3"
  },
  "language_info": {
   "codemirror_mode": {
    "name": "ipython",
    "version": 3
   },
   "file_extension": ".py",
   "mimetype": "text/x-python",
   "name": "python",
   "nbconvert_exporter": "python",
   "pygments_lexer": "ipython3",
   "version": "3.6.8"
  }
 },
 "nbformat": 4,
 "nbformat_minor": 2
}
